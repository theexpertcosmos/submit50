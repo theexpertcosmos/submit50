{
  "nbformat": 4,
  "nbformat_minor": 0,
  "metadata": {
    "colab": {
      "name": "Edad",
      "provenance": [],
      "authorship_tag": "ABX9TyPzUtV4adDxIUdQZeLLkFr8",
      "include_colab_link": true
    },
    "kernelspec": {
      "name": "python3",
      "display_name": "Python 3"
    }
  },
  "cells": [
    {
      "cell_type": "markdown",
      "metadata": {
        "id": "view-in-github",
        "colab_type": "text"
      },
      "source": [
        "<a href=\"https://colab.research.google.com/github/theexpertcosmos/submit50/blob/master/Edad.ipynb\" target=\"_parent\"><img src=\"https://colab.research.google.com/assets/colab-badge.svg\" alt=\"Open In Colab\"/></a>"
      ]
    },
    {
      "cell_type": "code",
      "metadata": {
        "id": "lQsoCuuycGNi",
        "outputId": "ebb04a3a-43b0-471b-8b17-267fe3171e2c",
        "colab": {
          "base_uri": "https://localhost:8080/",
          "height": 136
        }
      },
      "source": [
        "\n",
        "nombre = input(\"Suministre su nombre\\n\")\n",
        "edad = int(input(\"Edad \\n\"))\n",
        "a_c = int(input(\"año actual\\n\"))\n",
        "a_100 = a_c - edad + 100\n",
        "print(f\"{nombre} va a cumplir 100 años en el {a_100}\")"
      ],
      "execution_count": null,
      "outputs": [
        {
          "output_type": "stream",
          "text": [
            "Suministre su nombre\n",
            "Juan\n",
            "edad\n",
            "18\n",
            "año actual\n",
            "2020\n",
            "Juan va a cumplir 100 años en el 2102\n"
          ],
          "name": "stdout"
        }
      ]
    },
    {
      "cell_type": "code",
      "metadata": {
        "id": "z7VsuO_XcOic",
        "outputId": "bdc82b48-acf2-4206-eed9-738f3540cf9c",
        "colab": {
          "base_uri": "https://localhost:8080/",
          "height": 34
        }
      },
      "source": [
        "print(f\"{nombre} cumplira 100 años en el {a_100}\")"
      ],
      "execution_count": null,
      "outputs": [
        {
          "output_type": "stream",
          "text": [
            "Juan cumplira 100 años en el 2102\n"
          ],
          "name": "stdout"
        }
      ]
    },
    {
      "cell_type": "markdown",
      "metadata": {
        "id": "Eo6R9pVefvcR"
      },
      "source": [
        ""
      ]
    }
  ]
}